{
 "cells": [
  {
   "cell_type": "markdown",
   "metadata": {},
   "source": [
    "### Simple example - Implementation of Markov Chain Monte Carlo\n",
    "Carlos J. Arguello, Ph.D"
   ]
  },
  {
   "cell_type": "markdown",
   "metadata": {},
   "source": [
    "MCMC is often used to estimate the posterior distribution given a likelihood and a prior using Bayes' Theorem.\n",
    "The posterior distribution is often impossible to obtain in closed form (unless a conjugate prior is used). \n",
    "\n",
    "This is a simple example ilustrating the MCMC method using the Metropolis algorithm to obtain the posterior\n",
    "given a prior, and some synthetic data. For comparison purposes, I will implement a problem with closed analytical solution, and then we will \n",
    "check how the MCMC converges to the analytical solution"
   ]
  },
  {
   "cell_type": "markdown",
   "metadata": {},
   "source": [
    "Problem: Lets suppose we have data sampled from a gaussian distribution with mean mu, known variance sigma^2. \n",
    "We would like to estimate the posterior distribution of the parameter mu. \n",
    "It is easy to show that, given N i.i.d. samples ${x_1, x_2, ..., x_N}$ with mean $\\mu$ and variance $\\sigma^2$,\n",
    "and if we assume a gaussian prior for the mean:\n",
    "\n",
    "$$\\rho(\\mu) = \\frac{1}{2\\pi\\alpha^2}exp[-(\\mu - \\gamma)^2/2\\alpha^2]$$\n",
    "\n",
    "The posterior distribution is:\n",
    "\n",
    "$$\\rho(\\mu|x_{1:N}) = \\frac{1}{2\\pi\\sigma_{\\mu}^2}exp[-(\\mu - \\Delta)^2/2\\sigma_{\\mu}^2]$$\n",
    "\n",
    "Where the parameters $\\Delta, \\sigma_{\\mu}$ of the posterior $\\rho(\\mu|x_{1:N})$ are:\n",
    "$$\\sigma_\\mu^2 = \\left(\\frac{1}{\\alpha^2} + \\frac{N}{\\sigma^2}\\right)$$\n",
    "$$\\Delta = \\frac{1}{\\alpha^2+\\sigma^2/N}\\left(\\bar{x}\\alpha^2 + \\gamma\\frac{\\sigma^2}{N}\\right)$$\n"
   ]
  },
  {
   "cell_type": "code",
   "execution_count": 1,
   "metadata": {},
   "outputs": [],
   "source": [
    "import numpy as np\n",
    "import seaborn as sns\n",
    "%matplotlib inline"
   ]
  },
  {
   "cell_type": "code",
   "execution_count": 2,
   "metadata": {},
   "outputs": [],
   "source": [
    "# Parameters of likelihood:\n",
    "sigma_l = 0.5\n",
    "mu_l = 1 \n",
    "N_data = 1000\n",
    "\n",
    "# Generate data:\n",
    "\n",
    "simulated_data = np.random.normal(loc=mu_l, scale=sigma_l, size=N_data)"
   ]
  },
  {
   "cell_type": "code",
   "execution_count": 3,
   "metadata": {},
   "outputs": [
    {
     "data": {
      "text/plain": [
       "<matplotlib.axes._subplots.AxesSubplot at 0x1a1d10ec50>"
      ]
     },
     "execution_count": 3,
     "metadata": {},
     "output_type": "execute_result"
    },
    {
     "data": {
      "image/png": "[encoded data removed]",
      "text/plain": [
       "<Figure size 432x288 with 1 Axes>"
      ]
     },
     "metadata": {
      "needs_background": "light"
     },
     "output_type": "display_data"
    }
   ],
   "source": [
    "sns.distplot(simulated_data)"
   ]
  },
  {
   "cell_type": "code",
   "execution_count": 4,
   "metadata": {},
   "outputs": [],
   "source": [
    "# Prior parameters:\n",
    "sigma_prior = 1\n",
    "mean_prior = 0\n",
    "\n",
    "# Posterior distribution:\n",
    "sigma_post = (1/sigma_prior**2 + N_data/sigma_l**2)**(-1)"
   ]
  },
  {
   "cell_type": "code",
   "execution_count": 5,
   "metadata": {},
   "outputs": [
    {
     "data": {
      "text/plain": [
       "0.00024993751562109475"
      ]
     },
     "execution_count": 5,
     "metadata": {},
     "output_type": "execute_result"
    }
   ],
   "source": [
    "sigma_post"
   ]
  },
  {
   "cell_type": "code",
   "execution_count": 6,
   "metadata": {},
   "outputs": [],
   "source": [
    "# Define target distribution\n",
    "target_dist = lambda x: np.sin(x)*np.sin(2*x)**2*(1/np.sqrt(2*np.pi)*np.exp(-x**2/2))"
   ]
  },
  {
   "cell_type": "code",
   "execution_count": 7,
   "metadata": {},
   "outputs": [
    {
     "name": "stderr",
     "output_type": "stream",
     "text": [
      "/Users/carlosjarguello/miniconda3/envs/DS/lib/python3.7/site-packages/ipykernel_launcher.py:6: RuntimeWarning: divide by zero encountered in double_scalars\n",
      "  \n"
     ]
    }
   ],
   "source": [
    "x_target = []\n",
    "x_current = 0\n",
    "scale = 0.2\n",
    "for i in range(1000000):\n",
    "    x_proposal = x_current-np.random.uniform(low=-scale/2, high=scale/2)    # q(x_t+1|x_t) -- Proposal dist is uniform [-1,1]. \n",
    "    if np.random.uniform() < min(1,target_dist(x_proposal)/target_dist(x_current)):\n",
    "        x_target.append(x_proposal)\n",
    "        x_current = x_proposal"
   ]
  },
  {
   "cell_type": "code",
   "execution_count": 8,
   "metadata": {},
   "outputs": [
    {
     "data": {
      "text/plain": [
       "<matplotlib.axes._subplots.AxesSubplot at 0x1a1d484550>"
      ]
     },
     "execution_count": 8,
     "metadata": {},
     "output_type": "execute_result"
    },
    {
     "data": {
      "image/png": "[encoded data removed]",
      "text/plain": [
       "<Figure size 432x288 with 1 Axes>"
      ]
     },
     "metadata": {
      "needs_background": "light"
     },
     "output_type": "display_data"
    }
   ],
   "source": [
    "sns.distplot(x_target)"
   ]
  },
  {
   "cell_type": "code",
   "execution_count": 9,
   "metadata": {},
   "outputs": [
    {
     "data": {
      "text/plain": [
       "0.073883574821719"
      ]
     },
     "execution_count": 9,
     "metadata": {},
     "output_type": "execute_result"
    }
   ],
   "source": [
    "np.random.uniform(low=-scale/2, high=scale/2)"
   ]
  },
  {
   "cell_type": "code",
   "execution_count": null,
   "metadata": {},
   "outputs": [],
   "source": []
  }
 ],
 "metadata": {
  "kernelspec": {
   "display_name": "Python 3",
   "language": "python",
   "name": "python3"
  },
  "language_info": {
   "codemirror_mode": {
    "name": "ipython",
    "version": 3
   },
   "file_extension": ".py",
   "mimetype": "text/x-python",
   "name": "python",
   "nbconvert_exporter": "python",
   "pygments_lexer": "ipython3",
   "version": "3.7.7"
  }
 },
 "nbformat": 4,
 "nbformat_minor": 2
}
